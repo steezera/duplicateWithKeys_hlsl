{
 "cells": [
  {
   "cell_type": "markdown",
   "metadata": {},
   "source": [
    "render 코드는 그렇게 크게 할 거 없음\n",
    "- transmittance 개념 이랑 그거 연관된 공식만 구현하면됨\n"
   ]
  },
  {
   "cell_type": "markdown",
   "metadata": {},
   "source": []
  }
 ],
 "metadata": {
  "language_info": {
   "name": "python"
  }
 },
 "nbformat": 4,
 "nbformat_minor": 2
}
