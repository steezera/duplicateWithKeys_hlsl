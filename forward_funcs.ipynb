{
 "cells": [
  {
   "cell_type": "code",
   "execution_count": 1,
   "metadata": {},
   "outputs": [
    {
     "name": "stdout",
     "output_type": "stream",
     "text": [
      "Result: [111.41111111  11.11111111 222.52222222]\n"
     ]
    }
   ],
   "source": [
    "import numpy as np\n",
    "\n",
    "def transform_point_4x3(point, matrix):\n",
    "    return np.array([\n",
    "        matrix[0] * point[0] + matrix[4] * point[1] + matrix[8] * point[2] + matrix[12],\n",
    "        matrix[1] * point[0] + matrix[5] * point[1] + matrix[9] * point[2] + matrix[13],\n",
    "        matrix[2] * point[0] + matrix[6] * point[1] + matrix[10] * point[2] + matrix[14]\n",
    "    ])\n",
    "\n",
    "def compute_cov_2d(mean, focal_x, focal_y, tan_fovx, tan_fovy, cov3d, viewmatrix):\n",
    "    t = transform_point_4x3(mean, viewmatrix)\n",
    "\n",
    "    limx = 1.3 * tan_fovx\n",
    "    limy = 1.3 * tan_fovy\n",
    "    txtz = t[0] / t[2]\n",
    "    tytz = t[1] / t[2]\n",
    "    t[0] = np.clip(txtz, -limx, limx) * t[2]\n",
    "    t[1] = np.clip(tytz, -limy, limy) * t[2]\n",
    "\n",
    "    J = np.array([\n",
    "        [focal_x / t[2], 0.0, -(focal_x * t[0]) / (t[2] ** 2)],\n",
    "        [0.0, focal_y / t[2], -(focal_y * t[1]) / (t[2] ** 2)],\n",
    "        [0.0, 0.0, 0.0]\n",
    "    ])\n",
    "\n",
    "    W = np.array([\n",
    "        [viewmatrix[0], viewmatrix[4], viewmatrix[8]],\n",
    "        [viewmatrix[1], viewmatrix[5], viewmatrix[9]],\n",
    "        [viewmatrix[2], viewmatrix[6], viewmatrix[10]]\n",
    "    ])\n",
    "\n",
    "    T = np.dot(W, J)\n",
    "\n",
    "    Vrk = np.array([\n",
    "        [cov3d[0], cov3d[1], cov3d[2]],\n",
    "        [cov3d[1], cov3d[3], cov3d[4]],\n",
    "        [cov3d[2], cov3d[4], cov3d[5]]\n",
    "    ])\n",
    "\n",
    "    cov = np.dot(np.dot(T.T, Vrk), T)\n",
    "\n",
    "    cov[0, 0] += 0.3\n",
    "    cov[1, 1] += 0.3\n",
    "\n",
    "    return np.array([cov[0, 0], cov[0, 1], cov[1, 1]])\n",
    "\n",
    "# 테스트 데이터\n",
    "def main():\n",
    "    mean = np.array([1.0, 2.0, 3.0])\n",
    "    focal_x = 100.0\n",
    "    focal_y = 100.0\n",
    "    tan_fovx = 0.5\n",
    "    tan_fovy = 0.5\n",
    "    cov3d = np.array([0.1, 0.01, 0.01, 0.2, 0.02, 0.3])\n",
    "    viewmatrix = np.eye(4).flatten()\n",
    "\n",
    "    result = compute_cov_2d(mean, focal_x, focal_y, tan_fovx, tan_fovy, cov3d, viewmatrix)\n",
    "    print(\"Result:\", result)\n",
    "\n",
    "if __name__ == \"__main__\":\n",
    "    main()\n"
   ]
  },
  {
   "cell_type": "code",
   "execution_count": null,
   "metadata": {},
   "outputs": [],
   "source": []
  }
 ],
 "metadata": {
  "kernelspec": {
   "display_name": "base",
   "language": "python",
   "name": "python3"
  },
  "language_info": {
   "codemirror_mode": {
    "name": "ipython",
    "version": 3
   },
   "file_extension": ".py",
   "mimetype": "text/x-python",
   "name": "python",
   "nbconvert_exporter": "python",
   "pygments_lexer": "ipython3",
   "version": "3.11.5"
  }
 },
 "nbformat": 4,
 "nbformat_minor": 2
}
