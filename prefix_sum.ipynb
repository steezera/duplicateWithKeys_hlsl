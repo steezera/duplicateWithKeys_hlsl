{
 "cells": [
  {
   "cell_type": "markdown",
   "metadata": {},
   "source": [
    "# check prefix_sum\n",
    "## check 3dgs.cpp and vkgs\n"
   ]
  },
  {
   "cell_type": "markdown",
   "metadata": {},
   "source": [
    "- make timestep variable\n",
    "- pushConstant\n"
   ]
  },
  {
   "cell_type": "code",
   "execution_count": null,
   "metadata": {
    "vscode": {
     "languageId": "plaintext"
    }
   },
   "outputs": [],
   "source": [
    "    prefixSumPipeline->bind(preprocessCommandBuffer, 0, 0);\n",
    "    preprocessCommandBuffer->writeTimestamp(vk::PipelineStageFlagBits::eComputeShader, context->queryPool.get(),\n",
    "                                            queryManager->registerQuery(\"prefix_sum_start\"));\n",
    "    const auto iters = static_cast<uint32_t>(std::ceil(std::log2(static_cast<float>(scene->getNumVertices()))));\n",
    "    for (uint32_t timestep = 0; timestep <= iters; timestep++) {\n",
    "        preprocessCommandBuffer->pushConstants(prefixSumPipeline->pipelineLayout.get(),\n",
    "                                               vk::ShaderStageFlagBits::eCompute, 0,\n",
    "                                               sizeof(uint32_t), &timestep);\n",
    "        preprocessCommandBuffer->dispatch(numGroups, 1, 1);\n",
    "\n",
    "        if (timestep % 2 == 0) {\n",
    "            prefixSumPongBuffer->computeWriteReadBarrier(preprocessCommandBuffer.get());\n",
    "            prefixSumPingBuffer->computeReadWriteBarrier(preprocessCommandBuffer.get());\n",
    "        } else {\n",
    "            prefixSumPingBuffer->computeWriteReadBarrier(preprocessCommandBuffer.get());\n",
    "            prefixSumPongBuffer->computeReadWriteBarrier(preprocessCommandBuffer.get());\n",
    "        }\n",
    "    }"
   ]
  },
  {
   "cell_type": "markdown",
   "metadata": {},
   "source": [
    "## read write buffer (UAV SRV)"
   ]
  },
  {
   "cell_type": "code",
   "execution_count": null,
   "metadata": {
    "vscode": {
     "languageId": "plaintext"
    }
   },
   "outputs": [],
   "source": [
    "void Buffer::computeWriteReadBarrier(vk::CommandBuffer commandBuffer) {\n",
    "    Utils::BarrierBuilder().queueFamilyIndex(context->queues[VulkanContext::Queue::COMPUTE].queueFamily)\n",
    "            .addBufferBarrier(shared_from_this(), vk::AccessFlagBits::eShaderWrite, vk::AccessFlagBits::eShaderRead)\n",
    "            .build(commandBuffer, vk::PipelineStageFlagBits::eComputeShader,\n",
    "                   vk::PipelineStageFlagBits::eComputeShader);\n",
    "}\n",
    "\n",
    "void Buffer::computeReadWriteBarrier(vk::CommandBuffer commandBuffer) {\n",
    "    Utils::BarrierBuilder().queueFamilyIndex(context->queues[VulkanContext::Queue::COMPUTE].queueFamily)\n",
    "            .addBufferBarrier(shared_from_this(), vk::AccessFlagBits::eShaderRead,\n",
    "                              vk::AccessFlagBits::eShaderWrite)\n",
    "            .build(commandBuffer, vk::PipelineStageFlagBits::eComputeShader,\n",
    "                   vk::PipelineStageFlagBits::eComputeShader);\n",
    "}\n",
    "\n",
    "void Buffer::computeWriteWriteBarrier(vk::CommandBuffer commandBuffer) {\n",
    "    Utils::BarrierBuilder().queueFamilyIndex(context->queues[VulkanContext::Queue::COMPUTE].queueFamily)\n",
    "            .addBufferBarrier(shared_from_this(), vk::AccessFlagBits::eShaderWrite,\n",
    "                              vk::AccessFlagBits::eShaderWrite)\n",
    "            .build(commandBuffer, vk::PipelineStageFlagBits::eComputeShader,\n",
    "                   vk::PipelineStageFlagBits::eComputeShader);\n",
    "}"
   ]
  },
  {
   "cell_type": "markdown",
   "metadata": {},
   "source": [
    "# createPrefixSumPipeline"
   ]
  },
  {
   "cell_type": "code",
   "execution_count": null,
   "metadata": {
    "vscode": {
     "languageId": "plaintext"
    }
   },
   "outputs": [],
   "source": [
    "void Renderer::createPrefixSumPipeline() {\n",
    "    spdlog::debug(\"Creating prefix sum pipeline\");\n",
    "    prefixSumPingBuffer = Buffer::storage(context, scene->getNumVertices() * sizeof(uint32_t), false);\n",
    "    prefixSumPongBuffer = Buffer::storage(context, scene->getNumVertices() * sizeof(uint32_t), false);\n",
    "    totalSumBufferHost = Buffer::staging(context, sizeof(uint32_t));\n",
    "\n",
    "    prefixSumPipeline = std::make_shared<ComputePipeline>(\n",
    "        context, std::make_shared<Shader>(context, \"prefix_sum\", SPV_PREFIX_SUM, SPV_PREFIX_SUM_len));\n",
    "    auto descriptorSet = std::make_shared<DescriptorSet>(context, FRAMES_IN_FLIGHT);\n",
    "    descriptorSet->bindBufferToDescriptorSet(0, vk::DescriptorType::eStorageBuffer, vk::ShaderStageFlagBits::eCompute,\n",
    "                                             prefixSumPingBuffer);\n",
    "    descriptorSet->bindBufferToDescriptorSet(1, vk::DescriptorType::eStorageBuffer, vk::ShaderStageFlagBits::eCompute,\n",
    "                                             prefixSumPongBuffer);\n",
    "    descriptorSet->build();\n",
    "\n",
    "    prefixSumPipeline->addDescriptorSet(0, descriptorSet);\n",
    "    prefixSumPipeline->addPushConstant(vk::ShaderStageFlagBits::eCompute, 0, sizeof(uint32_t));\n",
    "    prefixSumPipeline->build();\n",
    "}"
   ]
  }
 ],
 "metadata": {
  "language_info": {
   "name": "python"
  }
 },
 "nbformat": 4,
 "nbformat_minor": 2
}
